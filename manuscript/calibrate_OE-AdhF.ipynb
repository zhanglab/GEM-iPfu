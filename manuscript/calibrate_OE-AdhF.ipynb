{
 "cells": [
  {
   "cell_type": "code",
   "execution_count": 1,
   "id": "0ea41837-707a-42fb-9c64-868b5771c098",
   "metadata": {},
   "outputs": [],
   "source": [
    "import cobra\n",
    "from cobra.sampling import sample\n",
    "from cobra.sampling import OptGPSampler\n",
    "from cobra.flux_analysis import flux_variability_analysis\n",
    "import matplotlib.pyplot as plt\n",
    "import numpy as np\n",
    "import pandas as pd\n",
    "import seaborn as sns\n",
    "import seaborn as sns\n",
    "import os\n",
    "from cameo import fba\n",
    "import pickle\n",
    "import lzma"
   ]
  },
  {
   "cell_type": "code",
   "execution_count": 2,
   "id": "c9cfc560-0587-4ee8-bdfc-185d7fcfde31",
   "metadata": {
    "tags": []
   },
   "outputs": [],
   "source": [
    "def create_rxn(model, name, cpd_dict, direction=\"both\", limits=None):\n",
    "    # Create a reaction from a dict with {\"CPD1\": -1, \"CPD2: 1\"}\n",
    "    # Assuming the cpd ids are already in the model\n",
    "    if direction not in [\"forward\", \"reverse\", \"both\"]:\n",
    "        raise ValueError(\"Direction must be either forward, reverse, or both\")\n",
    "    rxn = cobra.Reaction(name)\n",
    "    if limits is not None:\n",
    "        if len(limits) != 2:\n",
    "            raise ValueError(\"Limits must be of length 2\")\n",
    "        else:\n",
    "            rxn.lower_bound = limits[0]\n",
    "            rxn.upper_bound = limits[1]\n",
    "    elif direction == \"both\":\n",
    "        rxn.lower_bound = -1000\n",
    "        rxn.upper_bound = 1000\n",
    "    elif direction == \"forward\":\n",
    "        rxn.lower_bound = 0\n",
    "        rxn.upper_bound = 1000\n",
    "    else:\n",
    "        rxn.lower_bound = -1000\n",
    "        rxn.upper_bound = 0\n",
    "    rxn.add_metabolites({\n",
    "        getattr(model.metabolites, cpd): val for cpd, val in cpd_dict.items()\n",
    "    })\n",
    "    print(\"Adding the following reaction to model:\")\n",
    "    print(rxn)\n",
    "    model.add_reactions([rxn])\n",
    "def multisample(model, n, runs=5, threads=1):\n",
    "    n_per_run = int(n/runs)\n",
    "    if n_per_run*runs != n:\n",
    "        print(\"Note: specified number of samples is not divisible by number of runs\")\n",
    "    print(\"Collecting {r} samples of size {x}, for {y} total samples\".format(r=runs, x=n_per_run, y=runs*n_per_run))\n",
    "    #p = Pool(nodes=threads)\n",
    "    #result = p.uimap(partial(sample, processes=1), (model,)*runs, (n_per_run,)*runs)\n",
    "    #p.close()\n",
    "    #p.join()\n",
    "    #p.clear()\n",
    "    result = []\n",
    "    for i in range(runs):\n",
    "        s = sample(model, n_per_run, processes=threads)\n",
    "        result.append(s)\n",
    "    return pd.concat(result, axis=0).reset_index()\n",
    "def add_fixed_constraint(model, rxn, value):\n",
    "    \"\"\"\n",
    "    model = cobra formatted model\n",
    "    rxn = string of reaction id\n",
    "    value = a single int/float to constrain the reaction to, or a list/tuple like (lb, ub)\n",
    "    \"\"\"\n",
    "    try:\n",
    "        lower = value[0]\n",
    "        upper = value[1]\n",
    "    except (TypeError, IndexError):\n",
    "        lower = value\n",
    "        upper = value\n",
    "    constraint = model.problem.Constraint(\n",
    "        getattr(model.reactions, rxn).flux_expression,\n",
    "        lb=lower, ub=upper)\n",
    "    model.add_cons_vars(constraint)\n",
    "    return constraint"
   ]
  },
  {
   "cell_type": "markdown",
   "id": "45a9783e-8abe-4206-bdb0-083fad53bbc1",
   "metadata": {},
   "source": [
    "### Preparation\n",
    "The code below assumes:\n",
    "1. The code is being run from the GEM-iCbes/manuscript directory"
   ]
  },
  {
   "cell_type": "code",
   "execution_count": 3,
   "id": "ad3e1896-67b1-4bd5-b6dd-043f01b62b87",
   "metadata": {},
   "outputs": [],
   "source": [
    "cobra_config = cobra.Configuration()\n",
    "cobra_config.solver = \"cplex\""
   ]
  },
  {
   "cell_type": "markdown",
   "id": "f3edd806-70fb-420c-b3d9-9756010130d3",
   "metadata": {},
   "source": [
    "### SBML file generation\n",
    "SBML files were generated from psamm using the `psamm-model sbmlexport` command.\n",
    "\n",
    "In the open model, the following constraints were added to limits.yaml:\n",
    "```\n",
    "- reaction: R00700\n",
    "  lower: 0\n",
    "  upper: 0\n",
    "- reaction: R07181\n",
    "  lower: 0\n",
    "  upper: 0\n",
    "```\n",
    "\n",
    "In the closed model, the constraints were as follows:\n",
    "```\n",
    "- reaction: R00700\n",
    "  lower: 0\n",
    "  upper: 1000\n",
    "- reaction: R07181\n",
    "  lower: 0\n",
    "  upper: 1000\n",
    "```"
   ]
  },
  {
   "cell_type": "code",
   "execution_count": 4,
   "id": "7cd6a246-c02d-4407-aa50-3a71037337da",
   "metadata": {
    "tags": []
   },
   "outputs": [
    {
     "name": "stderr",
     "output_type": "stream",
     "text": [
      "'' is not a valid SBML 'SId'.\n",
      "'' is not a valid SBML 'SId'.\n",
      "'' is not a valid SBML 'SId'.\n",
      "'' is not a valid SBML 'SId'.\n"
     ]
    }
   ],
   "source": [
    "with open(\"../sbmls/b971180d_YM_closed.sbml\") as f:\n",
    "    YM_closed = cobra.io.read_sbml_model(f)\n",
    "with open(\"../sbmls/b971180d_YM_open.sbml\") as f:\n",
    "    YM_open = cobra.io.read_sbml_model(f)\n",
    "with open(\"../sbmls/b971180d_YM_CODH_closed.sbml\") as f:\n",
    "    CODH_closed = cobra.io.read_sbml_model(f)\n",
    "with open(\"../sbmls/b971180d_YM_CODH_open.sbml\") as f:\n",
    "    CODH_open = cobra.io.read_sbml_model(f)"
   ]
  },
  {
   "cell_type": "markdown",
   "id": "4c73bb96-f21d-4f61-bc09-3b4b797e4281",
   "metadata": {
    "tags": []
   },
   "source": [
    "## Universal constraints\n",
    "1. GAPDH is removed in glycolytic conditions\n",
    "2. GAPOR is removed in gluconeogenic conditions"
   ]
  },
  {
   "cell_type": "code",
   "execution_count": 5,
   "id": "760219e1-5d56-4a80-ad17-55205f8037c2",
   "metadata": {},
   "outputs": [],
   "source": [
    "for model in [YM_closed, YM_open, CODH_closed, CODH_open]:\n",
    "    model.reactions.R01061.upper_bound = 0\n",
    "    model.reactions.R01063.upper_bound = 0"
   ]
  },
  {
   "cell_type": "markdown",
   "id": "47e12311-4975-4a70-8cfa-cd961a9037a6",
   "metadata": {},
   "source": [
    "## Calibrate overexpression for 'open' and 'closed' models\n",
    "Ethanol production values were collected after 21 hours of growth at 95 C in the *P. furiosus* COM1c and OE-AdhF strains (Lipscomb et al. 2023). The ratio of ethanol production in the control (COM1) strain to the OE-AdhF strain was defined as the `scale` variable below.\n",
    "\n",
    "Lipscomb GL, Crowley A, Nguyen DMN, Keller MW, O’Quinn H, Tanwee TNN, Vailionis\n",
    "JL, Zhang K, Zhang Y, Kelly RM, Adams MWW. 2023. Manipulating fermentation\n",
    "pathways in the hyperthermophilic archaeon Pyrococcus furiosus for ethanol production up\n",
    "to 95°C driven by carbon monoxide oxidation. Appl Environ Microbiol. under review\n",
    "(Companion submission)."
   ]
  },
  {
   "cell_type": "code",
   "execution_count": 8,
   "id": "37728dc5-17d7-4b91-a9d1-159effd3a18d",
   "metadata": {},
   "outputs": [
    {
     "name": "stdout",
     "output_type": "stream",
     "text": [
      "Collecting 10 samples of size 250, for 2500 total samples\n",
      "Collecting 10 samples of size 250, for 2500 total samples\n"
     ]
    }
   ],
   "source": [
    "s1_closed = multisample(YM_closed, 2500, runs=10, threads=5)\n",
    "s1_open = multisample(YM_open, 2500, runs=10, threads=5)"
   ]
  },
  {
   "cell_type": "code",
   "execution_count": 9,
   "id": "fafac04a-d4d1-4eeb-9d38-fc544d8b4fd0",
   "metadata": {},
   "outputs": [
    {
     "name": "stdout",
     "output_type": "stream",
     "text": [
      "Closed model ethanol bounds = (3.292650740688972, 1000)\n",
      "Collecting 10 samples of size 250, for 2500 total samples\n"
     ]
    }
   ],
   "source": [
    "# derived from experimental ratio of ethanol production at 21 hr in 95C YM for MW004 / MW631tile(s1_closed.TP_ETOH, .25)\n",
    "scale = 0.2634177489 \n",
    "OE_lower = np.quantile(s1_closed.TP_ETOH, .25)\n",
    "cotrol_upper = scale * np.quantile(s1_closed.TP_ETOH, 0.75)\n",
    "print(\"Closed model ethanol bounds = {}\".format((OE_lower, 1000)))\n",
    "YM_closed_OE = YM_closed.copy()\n",
    "YM_closed_OE.reactions.TP_ETOH.lower_bound = OE_lower\n",
    "s1_YM_closed_OE = multisample(YM_closed_OE, 2500, runs=10, threads=5)"
   ]
  },
  {
   "cell_type": "code",
   "execution_count": 10,
   "id": "cd2bd35e-6a3e-4ae6-b49f-04e0dec5e1ea",
   "metadata": {},
   "outputs": [
    {
     "name": "stdout",
     "output_type": "stream",
     "text": [
      "open model ethanol bounds = (0.6934084904161786, 1000)\n",
      "Collecting 10 samples of size 250, for 2500 total samples\n"
     ]
    }
   ],
   "source": [
    "# derived from experimental ratio of ethanol production at 21 hr in 95C YM for MW004 / MW631tile(s1_open.TP_ETOH, .25)\n",
    "scale = 0.2634177489 \n",
    "OE_lower = np.quantile(s1_open.TP_ETOH, .25)\n",
    "cotrol_upper = scale * np.quantile(s1_open.TP_ETOH, 0.75)\n",
    "print(\"open model ethanol bounds = {}\".format((OE_lower, 1000)))\n",
    "YM_open_OE = YM_open.copy()\n",
    "YM_open_OE.reactions.TP_ETOH.lower_bound = OE_lower\n",
    "s1_YM_open_OE = multisample(YM_open_OE, 2500, runs=10, threads=5)"
   ]
  },
  {
   "cell_type": "code",
   "execution_count": 7,
   "id": "523376e5-d27f-42e3-9b3f-520e3c5f7eee",
   "metadata": {},
   "outputs": [],
   "source": [
    "with lzma.open(\"pickles/s1.pkl.xz\", \"wb\") as f:\n",
    "    pickle.dump([s1_closed, s1_open, s1_YM_closed_OE, s1_YM_open_OE], f)"
   ]
  },
  {
   "cell_type": "code",
   "execution_count": 6,
   "id": "01c3a1ea-ac98-4ff7-a4ff-17cc4d2a8302",
   "metadata": {},
   "outputs": [],
   "source": [
    "with lzma.open(\"pickles/s1.pkl.xz\", \"rb\") as f:\n",
    "    s1_closed, s1_open, s1_YM_closed_OE, s1_YM_open_OE = pickle.load(f)"
   ]
  },
  {
   "cell_type": "code",
   "execution_count": 7,
   "id": "0321bd00-a78b-4151-b1e4-ddd9374bbf7d",
   "metadata": {},
   "outputs": [
    {
     "name": "stdout",
     "output_type": "stream",
     "text": [
      "3.292650740688972\n",
      "0.6934084904161786\n",
      "2.4935252567276263\n",
      "0.8109819796784484\n"
     ]
    }
   ],
   "source": [
    "scale = 0.2634177489 \n",
    "OE_lower_closed = np.quantile(s1_closed.TP_ETOH, .25)\n",
    "OE_lower_open = np.quantile(s1_open.TP_ETOH, .25)\n",
    "control_upper_closed = scale * np.quantile(s1_closed.TP_ETOH, 0.75)\n",
    "control_upper_open = scale * np.quantile(s1_open.TP_ETOH, 0.75)\n",
    "\n",
    "print(OE_lower_closed)\n",
    "print(OE_lower_open)\n",
    "print(control_upper_closed)\n",
    "print(control_upper_open)"
   ]
  },
  {
   "cell_type": "markdown",
   "id": "09c12d26-1efe-4afd-8c7d-31592e3e8144",
   "metadata": {},
   "source": [
    "### Creating model files\n",
    "The sbml model files must be created manually using `psamm-model sbmlexport`, and are required for downstream analyses. To create them apply the following constraints to limits.yaml before exporting:\n",
    "\n",
    "OE-AdhF in closed system:\n",
    "```\n",
    "- reaction: TP_ETOH\n",
    "  lower: 3.293\n",
    "  upper: 1000\n",
    "- reaction: R00700\n",
    "  lower: 0\n",
    "  upper: 1000\n",
    "- reaction: R07181\n",
    "  lower: 0\n",
    "  upper: 1000\n",
    "```\n",
    "OE-AdhF in open system:\n",
    "```\n",
    "- reaction: TP_ETOH\n",
    "  lower: 0.6934\n",
    "  upper: 1000\n",
    "- reaction: R00700\n",
    "  lower: 0\n",
    "  upper: 0\n",
    "- reaction: R07181\n",
    "  lower: 0\n",
    "  upper: 0\n",
    "```\n",
    "Control (COM1c) in closed system:\n",
    "```\n",
    "- reaction: TP_ETOH\n",
    "  lower: 0\n",
    "  upper: 2.4935\n",
    "- reaction: R00700\n",
    "  lower: 0\n",
    "  upper: 1000\n",
    "- reaction: R07181\n",
    "  lower: 0\n",
    "  upper: 1000\n",
    "```\n",
    "OE-AdhF in open system:\n",
    "```\n",
    "- reaction: TP_ETOH\n",
    "  lower: 0\n",
    "  upper: 0.8110\n",
    "- reaction: R00700\n",
    "  lower: 0\n",
    "  upper: 0\n",
    "- reaction: R07181\n",
    "  lower: 0\n",
    "  upper: 0\n",
    "```"
   ]
  }
 ],
 "metadata": {
  "kernelspec": {
   "display_name": "Python (.conda-Py-3.9_psamm)",
   "language": "python",
   "name": "conda-env-.conda-Py-3.9_psamm-py"
  },
  "language_info": {
   "codemirror_mode": {
    "name": "ipython",
    "version": 3
   },
   "file_extension": ".py",
   "mimetype": "text/x-python",
   "name": "python",
   "nbconvert_exporter": "python",
   "pygments_lexer": "ipython3",
   "version": "3.9.15"
  }
 },
 "nbformat": 4,
 "nbformat_minor": 5
}
