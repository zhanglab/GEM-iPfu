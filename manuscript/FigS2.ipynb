{
 "cells": [
  {
   "cell_type": "code",
   "execution_count": 1,
   "id": "354b4804-ce29-4f4f-b792-e157f030ca00",
   "metadata": {},
   "outputs": [],
   "source": [
    "import cobra\n",
    "import matplotlib.pyplot as plt\n",
    "from matplotlib import colors as mcolors\n",
    "#import numpy as np\n",
    "import pandas as pd\n",
    "import seaborn as sns\n",
    "import os\n",
    "from cameo import fba\n",
    "import cmasher as cmr"
   ]
  },
  {
   "cell_type": "code",
   "execution_count": 2,
   "id": "f46d671e-43ab-4972-8146-f71b01d3d554",
   "metadata": {},
   "outputs": [],
   "source": [
    "cobra_config = cobra.Configuration()\n",
    "cobra_config.solver = \"cplex\""
   ]
  },
  {
   "cell_type": "code",
   "execution_count": 3,
   "id": "44e489f2-41cf-488d-95d6-eb2c09b2d280",
   "metadata": {},
   "outputs": [
    {
     "name": "stderr",
     "output_type": "stream",
     "text": [
      "'' is not a valid SBML 'SId'.\n",
      "'' is not a valid SBML 'SId'.\n",
      "'' is not a valid SBML 'SId'.\n"
     ]
    }
   ],
   "source": [
    "with open(\"../sbmls/b971180d_Adams2001_Malt-S0.sbml\", \"r\") as f:\n",
    "    malt = cobra.io.read_sbml_model(f)\n",
    "with open(\"../sbmls/b971180d_Adams2001_MaltPep-S0.sbml\", \"r\") as f:\n",
    "    maltpep = cobra.io.read_sbml_model(f)\n",
    "with open(\"../sbmls/b971180d_Adams2001_Pep-S0.sbml\", \"r\") as f:\n",
    "    pep = cobra.io.read_sbml_model(f)"
   ]
  },
  {
   "cell_type": "markdown",
   "id": "d51365c8-d5b8-40a2-b174-2fdb7aa5e424",
   "metadata": {
    "tags": []
   },
   "source": [
    "## Universal constraints\n",
    "1. GAPDH is removed in glycolytic conditions\n",
    "2. GAPOR is removed in gluconeogenic conditions\n",
    "\n",
    "Note: In the Maltose + Peptide, we did not apply the glycolytic or gluconeogenic constraints, since both directions are possible"
   ]
  },
  {
   "cell_type": "code",
   "execution_count": 4,
   "id": "d78a2e9f-3a0a-448e-b4a2-c4a408b23b3c",
   "metadata": {},
   "outputs": [],
   "source": [
    "for model in [malt]:\n",
    "    model.reactions.R01061.upper_bound = 0\n",
    "    model.reactions.R01063.upper_bound = 0\n",
    "for model in [pep]:\n",
    "    model.reactions.R07159.upper_bound = 0"
   ]
  },
  {
   "cell_type": "markdown",
   "id": "f17247d6-0423-4b0e-bae4-561070dc7c68",
   "metadata": {},
   "source": [
    "#### Comparison with experimental data\n",
    "From Adams et al. 2001, table 1. The values are doubling times (min).\n",
    "The model simulates growth yields, not rates, so we did a qualitative comparison of growth/non-growth\n",
    "\n",
    "The model was considered to not grow if its optimum biomass yield was less than 0.05 g CDW."
   ]
  },
  {
   "cell_type": "code",
   "execution_count": 5,
   "id": "7d09e51f-c1d4-4242-89c3-ae3c5bc0abc0",
   "metadata": {},
   "outputs": [],
   "source": [
    "# Experimental data from Adams et al\n",
    "exp = pd.read_table(\"./data/Adams2001_growth.tsv\")"
   ]
  },
  {
   "cell_type": "code",
   "execution_count": 6,
   "id": "235745e4-2f38-480a-9c7c-4427a257d703",
   "metadata": {},
   "outputs": [
    {
     "data": {
      "text/html": [
       "<div>\n",
       "<style scoped>\n",
       "    .dataframe tbody tr th:only-of-type {\n",
       "        vertical-align: middle;\n",
       "    }\n",
       "\n",
       "    .dataframe tbody tr th {\n",
       "        vertical-align: top;\n",
       "    }\n",
       "\n",
       "    .dataframe thead th {\n",
       "        text-align: right;\n",
       "    }\n",
       "</style>\n",
       "<table border=\"1\" class=\"dataframe\">\n",
       "  <thead>\n",
       "    <tr style=\"text-align: right;\">\n",
       "      <th></th>\n",
       "      <th>Sulfur</th>\n",
       "      <th>media</th>\n",
       "      <th>Doubling time</th>\n",
       "      <th>stdev</th>\n",
       "    </tr>\n",
       "  </thead>\n",
       "  <tbody>\n",
       "    <tr>\n",
       "      <th>0</th>\n",
       "      <td>Present</td>\n",
       "      <td>Maltose</td>\n",
       "      <td>65.1</td>\n",
       "      <td>1.6</td>\n",
       "    </tr>\n",
       "    <tr>\n",
       "      <th>1</th>\n",
       "      <td>Absent</td>\n",
       "      <td>Maltose</td>\n",
       "      <td>63.3</td>\n",
       "      <td>0.8</td>\n",
       "    </tr>\n",
       "    <tr>\n",
       "      <th>2</th>\n",
       "      <td>Present</td>\n",
       "      <td>Peptides</td>\n",
       "      <td>40.5</td>\n",
       "      <td>4.8</td>\n",
       "    </tr>\n",
       "    <tr>\n",
       "      <th>3</th>\n",
       "      <td>Absent</td>\n",
       "      <td>Peptides</td>\n",
       "      <td>0.0</td>\n",
       "      <td>0.0</td>\n",
       "    </tr>\n",
       "    <tr>\n",
       "      <th>4</th>\n",
       "      <td>Present</td>\n",
       "      <td>Peptides + maltose</td>\n",
       "      <td>47.6</td>\n",
       "      <td>1.4</td>\n",
       "    </tr>\n",
       "    <tr>\n",
       "      <th>5</th>\n",
       "      <td>Absent</td>\n",
       "      <td>Peptides + maltose</td>\n",
       "      <td>64.1</td>\n",
       "      <td>5.8</td>\n",
       "    </tr>\n",
       "  </tbody>\n",
       "</table>\n",
       "</div>"
      ],
      "text/plain": [
       "    Sulfur               media  Doubling time  stdev\n",
       "0  Present             Maltose           65.1    1.6\n",
       "1   Absent             Maltose           63.3    0.8\n",
       "2  Present            Peptides           40.5    4.8\n",
       "3   Absent            Peptides            0.0    0.0\n",
       "4  Present  Peptides + maltose           47.6    1.4\n",
       "5   Absent  Peptides + maltose           64.1    5.8"
      ]
     },
     "execution_count": 6,
     "metadata": {},
     "output_type": "execute_result"
    }
   ],
   "source": [
    "exp"
   ]
  },
  {
   "cell_type": "code",
   "execution_count": 7,
   "id": "c870d9fb-7452-40de-8bd2-b03eadea6c5b",
   "metadata": {},
   "outputs": [],
   "source": [
    "sim = []\n",
    "for name, model in {\"Maltose\": malt,\n",
    "              \"Peptides\": pep,\n",
    "              \"Peptides + maltose\": maltpep}.items():\n",
    "    tmp = model.copy()\n",
    "    sim.append([\"Present\", name, fba(tmp).objective_value])\n",
    "    # Remove sulfur\n",
    "    tmp.reactions.EX_C00087_LSQBKT_e_RSQBKT_.lower_bound = 0\n",
    "    sim.append([\"Absent\", name, fba(tmp).objective_value])\n",
    "result = pd.DataFrame(sim, columns=[\"Sulfur\", \"media\", \"growth\"]).set_index([\"Sulfur\", \"media\"])\n",
    "\n",
    "df = exp.join(result, on=[\"Sulfur\", \"media\"])\n",
    "df[\"exp\"] = df[\"Doubling time\"] > 0.05\n",
    "df[\"sim\"] = df[\"growth\"] > 0.05\n",
    "df = df.drop(columns=[\"Doubling time\", \"stdev\", \"growth\"]).set_index([\"Sulfur\", \"media\"])\n",
    "\n",
    "labels = df.copy()\n",
    "labels[\"exp\"] = [\"+\" if x else \"-\" for x in df[\"exp\"]]\n",
    "labels[\"sim\"] = [\"+\" if x else \"-\" for x in df[\"sim\"]]"
   ]
  },
  {
   "cell_type": "code",
   "execution_count": 12,
   "id": "f85760b1-0f18-4501-a645-cd7d22f31f6c",
   "metadata": {},
   "outputs": [
    {
     "data": {
      "image/png": "[encoded data removed]",
      "text/plain": [
       "<Figure size 640x480 with 1 Axes>"
      ]
     },
     "metadata": {},
     "output_type": "display_data"
    }
   ],
   "source": [
    "cmap = cmr.get_sub_cmap(\"PiYG\", 0.1, 0.9)\n",
    "ax = sns.heatmap(df, linewidths=10,\n",
    "            cmap=cmap, #sns.color_palette(\"PiYG\", as_cmap=True),\n",
    "            annot=labels,\n",
    "            fmt=\"\",\n",
    "            cbar=False)\n",
    "ax.set_xticklabels([\"Experimental\", \"Computational\"])\n",
    "ax.set_yticklabels([\"Maltose + S$^0$\", \"Maltose\", \"Peptides + S$^0$\", \"Peptides\", \"Peptides + Maltose + S$^0$\", \"Peptides + Maltose\"])\n",
    "ax.set_ylabel(\"\")\n",
    "ax.tick_params(left=False, bottom=False)\n",
    "plt.tight_layout()\n",
    "plt.savefig(\"./figures/FigS2.tiff\",\n",
    "            dpi=300, format=\"tiff\", pil_kwargs={\"compression\": \"tiff_lzw\"})"
   ]
  }
 ],
 "metadata": {
  "kernelspec": {
   "display_name": "Python (.conda-Py-3.9_psamm)",
   "language": "python",
   "name": "conda-env-.conda-Py-3.9_psamm-py"
  },
  "language_info": {
   "codemirror_mode": {
    "name": "ipython",
    "version": 3
   },
   "file_extension": ".py",
   "mimetype": "text/x-python",
   "name": "python",
   "nbconvert_exporter": "python",
   "pygments_lexer": "ipython3",
   "version": "3.9.15"
  }
 },
 "nbformat": 4,
 "nbformat_minor": 5
}
